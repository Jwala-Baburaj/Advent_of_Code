{
 "cells": [
  {
   "cell_type": "code",
   "execution_count": 15,
   "metadata": {},
   "outputs": [],
   "source": [
    "with open('input_day4.txt') as f:\n",
    "    data = f.read().split('\\n\\n')"
   ]
  },
  {
   "cell_type": "code",
   "execution_count": 29,
   "metadata": {},
   "outputs": [],
   "source": [
    "required = ['byr','eyr','iyr','hgt','pid','hcl','ecl']"
   ]
  },
  {
   "cell_type": "code",
   "execution_count": 53,
   "metadata": {},
   "outputs": [
    {
     "name": "stdout",
     "output_type": "stream",
     "text": [
      "222\n"
     ]
    }
   ],
   "source": [
    "count = 0\n",
    "for i in range(len(data)):\n",
    "    temp = [ st in data[i] for st in required]\n",
    "    if all(temp):\n",
    "        count += 1\n",
    "\n",
    "print(count)"
   ]
  },
  {
   "cell_type": "markdown",
   "metadata": {},
   "source": [
    "## Part 2"
   ]
  },
  {
   "cell_type": "code",
   "execution_count": 112,
   "metadata": {},
   "outputs": [],
   "source": [
    "count = 0 # valid passport count\n",
    "for i in range(len(data)):\n",
    "    temp = data[i].replace('\\n',' ').split(' ')\n",
    "    temp2  = [t.replace(':', ' ') for t in temp]\n",
    "    temp3 = [t.split() for t in temp2]\n",
    "    \n",
    "    dict = {}\n",
    "    \n",
    "    for j in temp3:\n",
    "        dict[j[0]] = j[1:][0]\n",
    "        #TODO put condition on values based on each key\n",
    "        \n",
    "    "
   ]
  },
  {
   "cell_type": "code",
   "execution_count": 110,
   "metadata": {},
   "outputs": [
    {
     "data": {
      "text/plain": [
       "['byr:1985',\n",
       " 'eyr:2021',\n",
       " 'iyr:2011',\n",
       " 'hgt:175cm',\n",
       " 'pid:163069444',\n",
       " 'hcl:#18171d']"
      ]
     },
     "execution_count": 110,
     "metadata": {},
     "output_type": "execute_result"
    }
   ],
   "source": [
    "temp = data[0].replace('\\n',' ').split(' ')\n",
    "temp"
   ]
  },
  {
   "cell_type": "code",
   "execution_count": 77,
   "metadata": {},
   "outputs": [
    {
     "data": {
      "text/plain": [
       "['byr:1985',\n",
       " 'eyr:2021',\n",
       " 'iyr:2011',\n",
       " 'hgt:175cm',\n",
       " 'pid:163069444',\n",
       " 'hcl:#18171d']"
      ]
     },
     "execution_count": 77,
     "metadata": {},
     "output_type": "execute_result"
    }
   ],
   "source": [
    "temp2 = temp.split(' ')\n",
    "temp2"
   ]
  },
  {
   "cell_type": "code",
   "execution_count": 84,
   "metadata": {},
   "outputs": [
    {
     "data": {
      "text/plain": [
       "['byr 1985',\n",
       " 'eyr 2021',\n",
       " 'iyr 2011',\n",
       " 'hgt 175cm',\n",
       " 'pid 163069444',\n",
       " 'hcl #18171d']"
      ]
     },
     "execution_count": 84,
     "metadata": {},
     "output_type": "execute_result"
    }
   ],
   "source": [
    "temp3 = [t.replace(':', ' ') for t in temp2]\n",
    "temp3"
   ]
  },
  {
   "cell_type": "code",
   "execution_count": 86,
   "metadata": {},
   "outputs": [
    {
     "data": {
      "text/plain": [
       "[['byr', '1985'],\n",
       " ['eyr', '2021'],\n",
       " ['iyr', '2011'],\n",
       " ['hgt', '175cm'],\n",
       " ['pid', '163069444'],\n",
       " ['hcl', '#18171d']]"
      ]
     },
     "execution_count": 86,
     "metadata": {},
     "output_type": "execute_result"
    }
   ],
   "source": [
    "temp4 = [t.split() for t in temp3]\n",
    "temp4"
   ]
  },
  {
   "cell_type": "code",
   "execution_count": 109,
   "metadata": {},
   "outputs": [
    {
     "data": {
      "text/plain": [
       "{'byr': '1985',\n",
       " 'eyr': '2021',\n",
       " 'iyr': '2011',\n",
       " 'hgt': '175cm',\n",
       " 'pid': '163069444',\n",
       " 'hcl': '#18171d'}"
      ]
     },
     "execution_count": 109,
     "metadata": {},
     "output_type": "execute_result"
    }
   ],
   "source": [
    "dict = {}\n",
    "\n",
    "for t2 in temp4:\n",
    "    dict[t2[0]] = t2[1:][0]\n",
    "    \n",
    "dict"
   ]
  }
 ],
 "metadata": {
  "kernelspec": {
   "display_name": "Python 3",
   "language": "python",
   "name": "python3"
  },
  "language_info": {
   "codemirror_mode": {
    "name": "ipython",
    "version": 3
   },
   "file_extension": ".py",
   "mimetype": "text/x-python",
   "name": "python",
   "nbconvert_exporter": "python",
   "pygments_lexer": "ipython3",
   "version": "3.8.5"
  }
 },
 "nbformat": 4,
 "nbformat_minor": 4
}
