{
 "cells": [
  {
   "cell_type": "markdown",
   "metadata": {},
   "source": [
    "# AOC 2020 Day 3\n",
    "\n",
    "## Part 1"
   ]
  },
  {
   "cell_type": "code",
   "execution_count": 29,
   "metadata": {
    "ExecuteTime": {
     "end_time": "2020-12-04T17:42:49.565646Z",
     "start_time": "2020-12-04T17:42:49.410105Z"
    }
   },
   "outputs": [],
   "source": [
    "with open('input_day3.txt') as f:\n",
    "    data = f.read().splitlines()"
   ]
  },
  {
   "cell_type": "code",
   "execution_count": 30,
   "metadata": {
    "ExecuteTime": {
     "end_time": "2020-12-04T17:42:53.172169Z",
     "start_time": "2020-12-04T17:42:53.161199Z"
    }
   },
   "outputs": [
    {
     "name": "stdout",
     "output_type": "stream",
     "text": [
      "162\n"
     ]
    }
   ],
   "source": [
    "trees = 0\n",
    "\n",
    "for row in range(0,323):\n",
    "    if data[row][(row*3)%31] == '#':\n",
    "        trees += 1\n",
    "        \n",
    "print(trees)"
   ]
  },
  {
   "cell_type": "markdown",
   "metadata": {},
   "source": [
    "## Part 2"
   ]
  },
  {
   "cell_type": "code",
   "execution_count": 33,
   "metadata": {
    "ExecuteTime": {
     "end_time": "2020-12-04T17:52:24.978879Z",
     "start_time": "2020-12-04T17:52:24.967910Z"
    }
   },
   "outputs": [
    {
     "name": "stdout",
     "output_type": "stream",
     "text": [
      "3064612320\n"
     ]
    }
   ],
   "source": [
    "trees = 0\n",
    "slopes = [1,3,5,7]\n",
    "result = 1\n",
    "\n",
    "for mult in slopes:\n",
    "    trees = 0 \n",
    "    for row in range(0,323):\n",
    "        if data[row][(row*mult)%31] == '#':\n",
    "            trees += 1\n",
    "    result = result*trees\n",
    "    \n",
    "trees = 0\n",
    "for row in range(0,323):\n",
    "\n",
    "    if row*2 > 323:\n",
    "        break \n",
    "    else:\n",
    "        if data[row*2][row%31] == '#':\n",
    "            trees += 1\n",
    "\n",
    "result = result*trees\n",
    "        \n",
    "print(result)"
   ]
  }
 ],
 "metadata": {
  "kernelspec": {
   "display_name": "Python 3",
   "language": "python",
   "name": "python3"
  },
  "language_info": {
   "codemirror_mode": {
    "name": "ipython",
    "version": 3
   },
   "file_extension": ".py",
   "mimetype": "text/x-python",
   "name": "python",
   "nbconvert_exporter": "python",
   "pygments_lexer": "ipython3",
   "version": "3.8.5"
  }
 },
 "nbformat": 4,
 "nbformat_minor": 4
}
